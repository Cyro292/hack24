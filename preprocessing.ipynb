{
  "cells": [
    {
      "cell_type": "code",
      "execution_count": null,
      "metadata": {
        "colab": {
          "base_uri": "https://localhost:8080/"
        },
        "id": "Sp341_3gCUGb",
        "outputId": "d6f6dad9-de8c-48dd-cbb0-9d6ef56feac4"
      },
      "outputs": [
        {
          "name": "stdout",
          "output_type": "stream",
          "text": [
            "--2024-03-20 21:31:44--  https://djstarthackathon.blob.core.windows.net/data/data.zip\n",
            "Resolving djstarthackathon.blob.core.windows.net (djstarthackathon.blob.core.windows.net)... 52.239.251.228\n",
            "Connecting to djstarthackathon.blob.core.windows.net (djstarthackathon.blob.core.windows.net)|52.239.251.228|:443... connected.\n",
            "HTTP request sent, awaiting response... 200 OK\n",
            "Length: 4758821701 (4.4G) [application/zip]\n",
            "Saving to: ‘data.zip’\n",
            "\n",
            "data.zip            100%[===================>]   4.43G  69.2MB/s    in 68s     \n",
            "\n",
            "2024-03-20 21:32:52 (66.8 MB/s) - ‘data.zip’ saved [4758821701/4758821701]\n",
            "\n"
          ]
        }
      ],
      "source": [
        "!wget https://djstarthackathon.blob.core.windows.net/data/data.zip"
      ]
    },
    {
      "cell_type": "code",
      "execution_count": null,
      "metadata": {
        "id": "8gOwR_PxyD-M"
      },
      "outputs": [],
      "source": [
        "!unzip data.zip"
      ]
    },
    {
      "cell_type": "code",
      "execution_count": null,
      "metadata": {
        "id": "ZqLTlAl5yvuh"
      },
      "outputs": [],
      "source": [
        "!pip install cohere"
      ]
    },
    {
      "cell_type": "code",
      "execution_count": null,
      "metadata": {
        "colab": {
          "base_uri": "https://localhost:8080/"
        },
        "id": "6VNdYKtd5jDx",
        "outputId": "d6a41cbd-eed5-43c3-93aa-932189e180bc"
      },
      "outputs": [
        {
          "name": "stdout",
          "output_type": "stream",
          "text": [
            "Requirement already satisfied: beautifulsoup4 in /usr/local/lib/python3.10/dist-packages (4.12.3)\n",
            "Requirement already satisfied: soupsieve>1.2 in /usr/local/lib/python3.10/dist-packages (from beautifulsoup4) (2.5)\n"
          ]
        }
      ],
      "source": [
        "!pip install beautifulsoup4"
      ]
    },
    {
      "cell_type": "code",
      "execution_count": null,
      "metadata": {
        "colab": {
          "base_uri": "https://localhost:8080/"
        },
        "id": "zNHbBqWb53vq",
        "outputId": "c3af0eaa-e1e3-43d1-fdf1-d8805ca0ab52"
      },
      "outputs": [
        {
          "name": "stdout",
          "output_type": "stream",
          "text": [
            "Requirement already satisfied: pandas in /usr/local/lib/python3.10/dist-packages (1.5.3)\n",
            "Requirement already satisfied: python-dateutil>=2.8.1 in /usr/local/lib/python3.10/dist-packages (from pandas) (2.8.2)\n",
            "Requirement already satisfied: pytz>=2020.1 in /usr/local/lib/python3.10/dist-packages (from pandas) (2023.4)\n",
            "Requirement already satisfied: numpy>=1.21.0 in /usr/local/lib/python3.10/dist-packages (from pandas) (1.25.2)\n",
            "Requirement already satisfied: six>=1.5 in /usr/local/lib/python3.10/dist-packages (from python-dateutil>=2.8.1->pandas) (1.16.0)\n"
          ]
        }
      ],
      "source": [
        "!pip install pandas"
      ]
    },
    {
      "cell_type": "code",
      "execution_count": null,
      "metadata": {
        "id": "5LuDtOge6JSq"
      },
      "outputs": [],
      "source": [
        "import pandas as pd\n",
        "from bs4 import BeautifulSoup\n",
        "import path"
      ]
    },
    {
      "cell_type": "code",
      "execution_count": null,
      "metadata": {
        "id": "FJu9IqfK6JqX"
      },
      "outputs": [],
      "source": [
        "from bs4 import BeautifulSoup\n",
        "import pandas as pd\n",
        "\n",
        "def efficient_html_to_dataframe(file_path):\n",
        "    with open(file_path, 'r', encoding='utf-8') as file:\n",
        "        soup = BeautifulSoup(file.read(), 'html.parser')\n",
        "\n",
        "    data = {\n",
        "        'filepath': file_path,\n",
        "        'headings': [],\n",
        "        'paragraphs': [],\n",
        "        'links': [],\n",
        "        'lists': [],\n",
        "        'tables': [],\n",
        "        'blockquotes': [],\n",
        "        'strong_bold': []\n",
        "    }\n",
        "\n",
        "    for element in soup.recursiveChildGenerator():\n",
        "        if element.name in ['h1', 'h2', 'h3', 'h4', 'h5', 'h6']:\n",
        "            data['headings'].append(element.text.strip())\n",
        "        elif element.name == 'p':\n",
        "            data['paragraphs'].append(element.text.strip())\n",
        "        elif element.name == 'a':\n",
        "            data['links'].append({'href': element.get('href', ''), 'text': element.text.strip()})\n",
        "        elif element.name == 'ul' or element.name == 'ol':\n",
        "            items = [li.text.strip() for li in element.find_all('li')]\n",
        "            list_type = 'unordered' if element.name == 'ul' else 'ordered'\n",
        "            data['lists'].append({'type': list_type, 'items': items})\n",
        "        elif element.name == 'table':\n",
        "            # Simplified table extraction for demonstration\n",
        "            data['tables'].append(element.text.strip())\n",
        "        elif element.name == 'blockquote':\n",
        "            data['blockquotes'].append(element.text.strip())\n",
        "        elif element.name in ['strong', 'b']:\n",
        "            data['strong_bold'].append(element.text.strip())\n",
        "\n",
        "    df = pd.DataFrame([data])\n",
        "    return df"
      ]
    },
    {
      "cell_type": "code",
      "execution_count": null,
      "metadata": {
        "id": "A48G1ejtHzm4"
      },
      "outputs": [],
      "source": [
        "import os\n",
        "import glob\n",
        "from bs4 import BeautifulSoup\n",
        "import pandas as pd\n",
        "\n",
        "def efficient_html_to_dataframe(file_path):\n",
        "    with open(file_path, 'r', encoding='utf-8') as file:\n",
        "        soup = BeautifulSoup(file.read(), 'html.parser')\n",
        "\n",
        "    data = {\n",
        "        'filepath': file_path,\n",
        "        'headings': [],\n",
        "        'paragraphs': [],\n",
        "        'blockquotes': [],\n",
        "        'strong_bold': []\n",
        "    }\n",
        "\n",
        "    for element in soup.recursiveChildGenerator():\n",
        "        if element.name in ['h1', 'h2', 'h3', 'h4', 'h5', 'h6']:\n",
        "            data['paragraphs'].append(element.text.strip())\n",
        "            data['headings'].append(element.text.strip())\n",
        "        elif element.name == 'p':\n",
        "            data['paragraphs'].append(element.text.strip())\n",
        "        elif element.name == 'a':\n",
        "            data['paragraphs'].append(element.text.strip())\n",
        "            data['blockquotes'].append(element.text.strip())\n",
        "        elif element.name in ['strong', 'b']:\n",
        "            data['paragraphs'].append(element.text.strip())\n",
        "            data['strong_bold'].append(element.text.strip())\n",
        "\n",
        "    df = pd.DataFrame([data])\n",
        "    return df\n",
        "\n",
        "def process_html_files(directory, output_csv):\n",
        "    # Initialize an empty DataFrame to store all the data\n",
        "    aggregated_df = pd.DataFrame()\n",
        "\n",
        "    # Define the pattern for HTML files\n",
        "    pattern = \"*.html\"\n",
        "\n",
        "    # Walk through the directory\n",
        "    for root, dirs, files in os.walk(directory):\n",
        "        for filename in glob.glob(os.path.join(root, pattern)):\n",
        "            # Process each HTML file\n",
        "            df = efficient_html_to_dataframe(filename)\n",
        "\n",
        "            # Append the data to the aggregated DataFrame\n",
        "            aggregated_df = pd.concat([aggregated_df, df], ignore_index=True)\n",
        "\n",
        "    # Save the aggregated DataFrame to a single CSV file\n",
        "    aggregated_df.to_csv(output_csv, index=False)\n",
        "\n",
        "# Example usage:\n",
        "# Replace 'your_directory_path' with the actual directory path you want to process\n",
        "# Specify the output CSV file name\n",
        "process_html_files('data', 'aggregated_data.csv')"
      ]
    },
    {
      "cell_type": "code",
      "execution_count": null,
      "metadata": {
        "id": "8cWbfRGUi00_"
      },
      "outputs": [],
      "source": [
        "!pip install llama-index\n",
        "\n",
        "!pip install llama-index-vector-stores-mongodb\n",
        "\n",
        "!pip install llama-index-embeddings-openai\n",
        "\n",
        "!pip install pymongo\n",
        "\n",
        "!pip install datasets\n",
        "\n",
        "!pip install pandas"
      ]
    },
    {
      "cell_type": "code",
      "execution_count": null,
      "metadata": {
        "id": "flXwBDuPjJaZ"
      },
      "outputs": [],
      "source": [
        "from llama_index.core.settings import Settings\n",
        "\n",
        "from llama_index.llms.openai import OpenAI\n",
        "\n",
        "from llama_index.embeddings.openai import OpenAIEmbedding\n",
        "\n",
        "embed_model=OpenAIEmbedding(model=\"text-embedding-3-small\",dimensions=256)\n",
        "\n",
        "llm=OpenAI()\n",
        "\n",
        "Settings.llm=llm\n",
        "\n",
        "Settings.embed_model=embed_model"
      ]
    },
    {
      "cell_type": "code",
      "execution_count": null,
      "metadata": {
        "id": "-lBlj5yGkwmi"
      },
      "outputs": [],
      "source": [
        "df = pd.read_csv('aggregated_data.csv')"
      ]
    },
    {
      "cell_type": "code",
      "execution_count": null,
      "metadata": {
        "colab": {
          "base_uri": "https://localhost:8080/",
          "height": 293
        },
        "id": "4BCaCNQmmF4S",
        "outputId": "78df2be3-3e80-4620-aeb9-83d2bcba17aa"
      },
      "outputs": [
        {
          "data": {
            "application/vnd.google.colaboratory.intrinsic+json": {
              "summary": "{\n  \"name\": \"df\",\n  \"rows\": 3882,\n  \"fields\": [\n    {\n      \"column\": \"filepath\",\n      \"properties\": {\n        \"dtype\": \"string\",\n        \"num_unique_values\": 3882,\n        \"samples\": [\n          \"data/recht/gerichte/organisation---standorte/kreisgerichte/werdenberg-sarganserland/personelles/data.html\",\n          \"data/politik-verwaltung/abstimmungen-wahlen/aktuelle-abstimmungen/archiv-2022/abstimmung-vom-15--mai-2022/data.html\",\n          \"data/bildung-sport/bslb/ebiz/Interessen/5/13/0-556-28-0/data.html\"\n        ],\n        \"semantic_type\": \"\",\n        \"description\": \"\"\n      }\n    },\n    {\n      \"column\": \"headings\",\n      \"properties\": {\n        \"dtype\": \"string\",\n        \"num_unique_values\": 3705,\n        \"samples\": [\n          \"['Accesskeys', 'Inhaltstyp', 'Buchs/Grabs: Br\\u00c3\\u00bccke WBK Ochsensand - B31.2.001.371; Mitwirkung vom 15. August bis 15. September 2022', 'Projektbeschrieb', '\\u00c3\\\\x9cbersichtsplan', 'Projektunterlagen', 'Noch offene Fragen?', 'F\\u00fcr Sie da', 'Unsere Themen', 'Bestens informiert', 'Kontakte Tiefbauamt']\",\n          \"['Accesskeys', 'Inhaltstyp', 'RAV Wattwil', 'Regionales Arbeitsvermittlungszentrum', 'Postadresse und telefonische Erreichbarkeit', 'Feiertage', 'F\\u00fcr Sie da', 'Unsere Themen', 'Bestens informiert', 'Kontakte Arbeitslosenversicherung']\",\n          \"['Accesskeys', 'Inhaltstyp', 'Rekursstellen Volksschule', 'St.Gallen-Rorschach', 'Rheintal-Werdenberg', 'Sarganserland-See-Gaster', 'Toggenburg-Wil', 'Noch offene Fragen?', 'Wir sind f\\u00c3\\u00bcr Sie da.', 'F\\u00fcr Sie da', 'Unsere Themen', 'Bestens informiert', 'Kontakte Amt f\\u00c3\\u00bcr Volksschule']\"\n        ],\n        \"semantic_type\": \"\",\n        \"description\": \"\"\n      }\n    },\n    {\n      \"column\": \"paragraphs\",\n      \"properties\": {\n        \"dtype\": \"string\",\n        \"num_unique_values\": 3851,\n        \"samples\": [\n          \"['Accesskeys', 'Direkt zur Startseite', 'Direkt zur Navigation', 'Direkt zum Inhalt', 'Direkt zur Suche', '', 'Suche \\u00c3\\u00b6ffnen', 'Inhaltstyp', '\\u00c3\\\\x96ffentlicher Verkehr\\\\nFahrplanverfahren', '\\u00c3\\\\x96ffentlicher Verkehr\\\\nHindernisfreie Bushaltestelle', '\\u00c3\\\\x96ffentlicher Verkehr\\\\nS-Bahn Kanton St.Gallen', '\\u00c3\\\\x96ffentlicher Verkehr\\\\nAktuelle Busplanung', '\\u00c3\\\\x96ffentlicher Verkehr\\\\nBericht \\u00c3\\u00b6ffentlicher Verkehr', '\\u00c3\\\\x96ffentlicher Verkehr\\\\nAusbauschritt 2035', '', 'Men\\u00c3\\u00bc aufklappen', 'Mobiles Men\\u00c3\\u00bc \\u00c3\\u00b6ffnen', 'logo for mobile-menu', 'G\\u00c3\\u00bcterverkehrsstrategie', 'Men\\u00c3\\u00bc aufklappen', 'G\\u00c3\\u00bcterverkehrsstrategie', 'Drucken', 'Teilen', 'Mobiles Men\\u00c3\\u00bc schliessen', 'logo for mobile-menu', 'Alle Themen', '\\u00c3\\\\x9cber den Kanton', 'Politik & Verwaltung', 'Bauen', 'Bildung & Sport', 'Gesundheit & Soziales', 'Kultur', 'Recht', 'Sicherheit', 'Steuern & Finanzen', 'Umwelt & Natur', 'Verkehr', 'Wirtschaft & Arbeit', 'Verkehr', 'Strassenverkehr', 'Strassen-Infrastruktur', 'Schifffahrt', '\\u00c3\\\\x96ffentlicher Verkehr', 'Baustellen', 'Fuss- und Veloverkehr', '\\u00c3\\\\x96ffentlicher Verkehr', 'Fahrplanprozess', 'Grundlagen', 'Planung \\u00c3\\u00b6V-Angebote', 'Infrastrukturprojekte', 'Strategien und Programme', 'Ausschreibungen', 'Zahlen und Fakten', 'S-Bahn Bodensee', 'Strategien und Programme', 'Gesamtverkehrsstrategie', '\\u00c3\\u00b6V-Strategie', '\\u00c3\\u00b6V-Programm', 'Agglomerationsprogramme', 'Raum- und Richtplanung', 'G\\u00c3\\u00bcterverkehrsstrategie', 'E-Bus-Strategie Kanton St.Gallen', 'G\\u00c3\\u00bcterverkehrsstrategie', 'Basierend auf der Gesamtverkehrsstrategie erarbeitet der Kanton momentan eine G\\u00c3\\u00bcterverkehrsstrategie. Diese besteht aus einem Analyse- und einem Umsetzungsteil. Die Analysearbeiten sind abgeschlossen und im nachfolgenden Bericht dokumentiert.', 'Vorlesen', '', 'Schlussbericht G\\u00c3\\u00bcterverkehrsstrategie Teil Analyse(18044 kB, PDF, 03.05.2019)', 'Noch offene Fragen?', 'Ihr Kontakt', 'Ihr Kontakt', 'Amt f\\u00c3\\u00bcr \\u00c3\\u00b6ffentlichen Verkehr', 'Amt f\\u00c3\\u00bcr \\u00c3\\u00b6ffentlichen Verkehr', 'Davidstrasse 35\\\\n\\\\t\\\\t\\\\t\\\\t\\\\t\\\\t\\\\n\\\\t\\\\t\\\\t\\\\t\\\\t\\\\t9001 St.Gallen', '+41 58 229 34 88', 'aoev@sg.ch', 'F\\u00fcr Sie da', 'Zust\\u00e4ndig f\\u00fcr den Inhalt dieser Seite:', 'Amt f\\u00c3\\u00bcr \\u00c3\\u00b6ffentlichen Verkehr', 'Amt f\\u00c3\\u00bcr \\u00c3\\u00b6ffentlichen Verkehr', 'Letzte Aktualisierung: 03.05.2019', 'Bleiben Sie in Kontakt mit uns auf Social Media:', '', '', '', '', '', 'Medienstelle', 'Medienstelle', 'Unsere Themen', 'Fahrplanprozess', 'Grundlagen', 'Planung \\u00c3\\u00b6V-Angebote', 'Infrastrukturprojekte', 'Strategien und Programme', 'Ausschreibungen', 'Zahlen und Fakten', 'S-Bahn Bodensee', 'Bestens informiert', 'Den Kanton etwas besser kennen lernen? Erhalten Sie t\\u00c3\\u00a4glich die Neuigkeiten aus dem Thema \\u00c3\\\\x96ffentlicher Verkehr.', 'W\\u00e4hlen Sie die Bereiche aus, f\\u00fcr welche Sie einen Newsletter w\\u00fcnschen:', 'Kantonsrat', 'Regierung', 'Departemente und Staatskanzlei', 'Gerichte', 'Kontakte Amt f\\u00c3\\u00bcr \\u00c3\\u00b6ffentlichen Verkehr', 'Impressum', 'Datenschutz sg.ch', 'Webmail', 'Intern']\",\n          \"['Accesskeys', 'Direkt zur Startseite', 'Direkt zur Navigation', 'Direkt zum Inhalt', 'Direkt zur Suche', '', 'Suche \\u00c3\\u00b6ffnen', 'Inhaltstyp', 'Umwelt\\\\nN\\u00c3\\u00a4hrstoffbilanzen und HODUFLU', 'Bauen', 'Umwelt\\\\nPflanzenschutzmittel', 'Umwelt\\\\nD\\u00c3\\u00bcngung und Umwelt', 'Umwelt\\\\nLandwirtschaftliche Bauten, Dichtheitskontrollen', '', 'Men\\u00c3\\u00bc aufklappen', 'Mobiles Men\\u00c3\\u00bc \\u00c3\\u00b6ffnen', 'logo for mobile-menu', 'D\\u00c3\\u00bcngung und Umwelt', 'Men\\u00c3\\u00bc aufklappen', 'D\\u00c3\\u00bcngung und Umwelt', 'Drucken', 'Teilen', 'Mobiles Men\\u00c3\\u00bc schliessen', 'logo for mobile-menu', 'Alle Themen', '\\u00c3\\\\x9cber den Kanton', 'Politik & Verwaltung', 'Bauen', 'Bildung & Sport', 'Gesundheit & Soziales', 'Kultur', 'Recht', 'Sicherheit', 'Steuern & Finanzen', 'Umwelt & Natur', 'Verkehr', 'Wirtschaft & Arbeit', 'Umwelt & Natur', 'Umwelt', 'Wasser', 'Energie', 'Natur & Landschaft', 'Naturgefahren', 'Jagd & Fischerei', 'Wald', 'Landwirtschaft', 'Veterin\\u00c3\\u00a4rwesen', 'Klima', 'Nachhaltigkeit', 'Umwelt', 'Merkbl\\u00c3\\u00a4tter, Infobl\\u00c3\\u00a4tter, Formulare, Downloads...', 'Abfall', 'Altlasten', 'Boden', 'L\\u00c3\\u00a4rm und Ersch\\u00c3\\u00bctterungen', 'Lagerung gef\\u00c3\\u00a4hrlicher Stoffe', 'Luft', 'St\\u00c3\\u00b6rfallvorsorge und Biosicherheit', 'Strahlung und Licht', 'Wasser', 'Kundengruppen', 'Vollzugshilfsmittel Umweltschutz', 'Bauen', 'Rechtsgrundlagen', 'Umweltstrafrecht', 'Infokampagne - Mit der Natur', 'Kundengruppen', 'Industrie und Gewerbe', 'Landwirtschaft', 'Gemeinden', 'Landwirtschaft', 'Landwirtschaftliche Bauten', 'D\\u00c3\\u00bcngung und Umwelt', 'N\\u00c3\\u00a4hrstoffbilanzen, n\\u00c3\\u00a4hrstoffreduziertes Futter und HODUFLU', 'Rechtsgrundlagen', 'Pflanzenschutzmittel', 'D\\u00c3\\u00bcngung und Umwelt', 'Weitere Informationen', 'Meteodaten Agrometeo neues Fenster', 'Meteodaten Ostluft neues Fenster', 'Ziel ist eine pflanzengerechte D\\u00c3\\u00bcngung ohne Gef\\u00c3\\u00a4hrdung der Umwelt.', 'Vorlesen', '', 'Ammoniakemissionen aus der Landwirtschaft', 'Stall', 'Stall', 'In Bearbeitung', 'Hofd\\u00c3\\u00bcngerlagerung / Abdeckungsobligatorium', 'Hofd\\u00c3\\u00bcngerlagerung / Abdeckungsobligatorium', 'Obligatorium zur Abdeckung offener G\\u00c3\\u00bcllelager', 'Obligatorium zur Abdeckung offener G\\u00c3\\u00bcllelager', 'Ammoniakemissionen aus offenen G\\u00c3\\u00bcllelagern', 'Ammoniakemissionen aus offenen G\\u00c3\\u00bcllelagern', 'In offenen Lagern ist die G\\u00c3\\u00bclle in direktem Kontakt mit der umgebenden Luft, was Ammoniak- und Geruchsemissionen beg\\u00c3\\u00bcnstigt. Der im Ammoniak enthaltene Stickstoff wird durch die Luft verfrachtet und gelangt andernorts wieder auf den Boden. Auf diese Weise k\\u00c3\\u00b6nnen empfindliche \\u00c3\\\\x96kosysteme wie W\\u00c3\\u00a4lder, Magerwiesen und Moore \\u00c3\\u00bcberd\\u00c3\\u00bcngt werden.', 'Eine wirksame Abdeckung von G\\u00c3\\u00bcllelagern reduziert die Ammoniakverluste um bis zu 80 Prozent (Quelle: HAFL, 2020). Die Abdeckung von offenen Lagern ist somit eine wirksame und relativ kosteng\\u00c3\\u00bcnstige Massnahme zur Verringerung der Ammoniak- und Geruchsemissionen.', 'Gesetzliche Grundlage', 'Gesetzliche Grundlage', 'Der Bundesrat beschloss im Rahmen einer Revision der Luftreinhalte-Verordnung (LRV), dass Einrichtungen f\\u00c3\\u00bcr die Lagerung und Behandlung von G\\u00c3\\u00bclle und fl\\u00c3\\u00bcssigen Verg\\u00c3\\u00a4rungsprodukten ab dem 1.\\\\xa0Januar 2022 mit einer dauerhaft wirksamen Abdeckung zur Begrenzung der Ammoniak- und Geruchsemissionen auszustatten sind. Das LRV-Obligatorium gilt f\\u00c3\\u00bcr alle Landwirtschaftsbetriebe mit offenen G\\u00c3\\u00bcllelagern. Verantwortlich f\\u00c3\\u00bcr den Vollzug im Kanton St.Gallen ist das Amt f\\u00c3\\u00bcr Umwelt (AFU).', 'Sanierungsfrist bis Ende 2029', 'Sanierungsfrist bis Ende 2029', 'F\\u00c3\\u00bcr die Sanierung gew\\u00c3\\u00a4hrt das AFU den betroffenen Landwirtschaftsbetrieben eine achtj\\u00c3\\u00a4hrige Frist (bis Ende 2029). G\\u00c3\\u00bcllelager, die innert der Sanierungsfrist nicht abgedeckt wurden, m\\u00c3\\u00bcssen stillgelegt werden.', 'Die Betriebe k\\u00c3\\u00b6nnen den Zeitpunkt der Abdeckung w\\u00c3\\u00a4hrend der Sanierungsfrist selber festlegen. F\\u00c3\\u00bcr das gesamte Sanierungsvorhaben mit Planung, obligatorischem Baugesuch, eventuellem Investitionshilfegesuch und baulicher Realisierung sollte sicherheitshalber mindestens ein Jahr Zeit eingeplant werden. Weiter ist zu ber\\u00c3\\u00bccksichtigen, dass Engp\\u00c3\\u00a4sse bei der Ausf\\u00c3\\u00bchrung von Abdeckungen entstehen k\\u00c3\\u00b6nnten, wenn sehr viele Betriebe diese erst gegen Ende der Sanierungsfrist realisieren liessen.', 'Bauliche Ausf\\u00c3\\u00bchrung', 'Bauliche Ausf\\u00c3\\u00bchrung', 'Als dauerhaft wirksame Abdeckungen gelten gem\\u00c3\\u00a4ss Vorgaben des Bundes feste Konstruktionen (Zeltdach, nicht perforierte Betonelemente, Ortbeton oder geschlossene Holzkonstruktionen) und Schwimmfolien. Weil sich unter festen Abdeckungen ein explosives Gasgemisch bilden kann, m\\u00c3\\u00bcssen minimale Zu- und Abluft\\u00c3\\u00b6ffnungen einen ausreichenden Luftwechsel bei jeder Witterung gew\\u00c3\\u00a4hrleisten.', 'Nat\\u00c3\\u00bcrliche Schwimmdecken, Sch\\u00c3\\u00bcttschichten (z. B. Stroh- oder Holzh\\u00c3\\u00a4cksel, Bl\\u00c3\\u00a4hton, usw.) sowie Konstruktionen mit offenen Seiten erf\\u00c3\\u00bcllen das Kriterium der dauerhaften Wirksamkeit nicht, weil ihre emissionsmindernde Wirkung beschr\\u00c3\\u00a4nkt und nicht permanent ist, z. B. w\\u00c3\\u00a4hrend des R\\u00c3\\u00bchrens der G\\u00c3\\u00bclle. Bestehende Lager mit solchen nicht dauerhaft wirksamen Abdeckungen sind deshalb ebenfalls zu sanieren.', 'Schwimmende, hexagonf\\u00c3\\u00b6rmige Kunststoffziegel erf\\u00c3\\u00bcllen nur bei separierter D\\u00c3\\u00bcnng\\u00c3\\u00bclle oder separierten Verg\\u00c3\\u00a4rungsprodukten (G\\u00c3\\u00a4rd\\u00c3\\u00bcnng\\u00c3\\u00bclle und fl\\u00c3\\u00bcssiges G\\u00c3\\u00a4rgut) die Abdeckpflicht, weil ihre Anwendbarkeit und Emissionsminderung nur bei feststofffreien fl\\u00c3\\u00bcssigen D\\u00c3\\u00bcngern gew\\u00c3\\u00a4hrleistet ist.', 'G\\u00c3\\u00bcllegruben und Sammelkan\\u00c3\\u00a4le unter perforierten B\\u00c3\\u00b6den (z. B. Spaltenb\\u00c3\\u00b6den) bed\\u00c3\\u00bcrfen grunds\\u00c3\\u00a4tzlich keiner zus\\u00c3\\u00a4tzlichen Abdeckung.', 'Detailliertere bauliche Informationen sind zu finden im Merkblatt zur \\u00c2\\u00abAbdeckung von G\\u00c3\\u00bcllelagern zur Reduktion von Emissionen\\u00c2\\u00bb von KOLAS und KVU (2022) sowie in der Vollzugshilfe \\u00c2\\u00abBaulicher Umweltschutz in der Landwirtschaft\\u00c2\\u00bb von BAFU und BLW (2011/2021) (siehe \\u00c2\\u00abHilfsmittel\\u00c2\\u00bb).', 'Investitionshilfen', 'Investitionshilfen', 'Die Massnahme \\u00c2\\u00abAbdeckung von bestehenden G\\u00c3\\u00bcllegruben\\u00c2\\u00bb wird basierend auf der \\u00c2\\u00abVerordnung des BLW \\u00c3\\u00bcber Investitionshilfen und soziale Begleitmassnahmen in der Landwirtschaft\\u00c2\\u00bb von Bund und Kanton mit insgesamt 60 Fr./m2\\\\xa0abgedeckter Fl\\u00c3\\u00a4che finanziell unterst\\u00c3\\u00bctzt.', 'Antr\\u00c3\\u00a4ge auf Investitionshilfen k\\u00c3\\u00b6nnen bei der Landwirtschaftlichen Kreditgenossenschaft des Kantons St.Gallen (LKG) eingereicht werden. Informationen zu den Kriterien f\\u00c3\\u00bcr die Unterst\\u00c3\\u00bctzung und zum Einreichen eines Antrags sind im Merkblatt \\u00c2\\u00abAbdeckung bestehender G\\u00c3\\u00bcllegruben\\u00c2\\u00bb auf der LKG-Homepage (https://www.lkg.sg.ch) abrufbar.', 'https://www.lkg.sg.ch', 'Kontakt', 'Kontakt', 'Auskunft zu bautechnischen Fragen, Baubewilligungsverfahren und Dichtheitsbest\\u00c3\\u00a4tigungen erteilt Jean-Marc Steiner (Tel. 058 229 24 07; jean-marc.steiner@sg.ch).', 'Hilfsmittel', 'Merkblatt \\\"Abdeckung von G\\u00c3\\u00bcllelagern zur Reduktion von Emissionen\\\", KOLAS und KVU, 2022(1197 kB, PDF)', 'Vollzugshilfe \\\"Baulicher Umweltschutz in der Landwirtschaft\\\", Kap. 4.2.2(115 kB, PDF, 21.06.2021)', 'Hofd\\u00c3\\u00bcngeraustrag / Schleppschlauchobligatorium', 'Hofd\\u00c3\\u00bcngeraustrag / Schleppschlauchobligatorium', 'Obligatorium zur emissionsarmen Ausbringung von G\\u00c3\\u00bclle und fl\\u00c3\\u00bcssigen Verg\\u00c3\\u00a4rungsprodukten', 'Obligatorium zur emissionsarmen Ausbringung von G\\u00c3\\u00bclle und fl\\u00c3\\u00bcssigen Verg\\u00c3\\u00a4rungsprodukten', 'Ab dem 1. Januar 2024 m\\u00c3\\u00bcssen aufgrund einer Revision der Luftreinhalte-Verordnung des Bundes (SR 814.318.142.1; abgek\\u00c3\\u00bcrzt LRV) die Ganzjahresbetriebe (ohne S\\u00c3\\u00b6mmerungsbetriebe) auf d\\u00c3\\u00bcngbaren landwirtschaftlichen Nutzfl\\u00c3\\u00a4chen (LN) mit einer Hangneigung bis 18 Prozent G\\u00c3\\u00bclle und fl\\u00c3\\u00bcssige Verg\\u00c3\\u00a4rungsprodukte mit Schleppschlauchverteilern oder anderen zul\\u00c3\\u00a4ssigen emissionsmindernden Verfahren ausbringen. Dies gilt, wenn die dazu geeignete d\\u00c3\\u00bcngbare Fl\\u00c3\\u00a4che auf dem Betrieb insgesamt drei oder mehr Hektaren betr\\u00c3\\u00a4gt.', 'Am 8. Juli 2022 wurde den Bewirtschafterinnen und Bewirtschaftern im Kanton St.Gallen per E-Mail mitgeteilt, ob der Betrieb auf Grund der Strukturdatenerhebung 2022 der Pflicht untersteht oder nicht.\\\\xa0Die n\\u00c3\\u00a4chste Aktualisierung der pflichtigen Fl\\u00c3\\u00a4chen erfolgt im Mai 2023 (Basis: Deklaration Strukturdatenerhebung 2023). Alle Bewirtschafterinnen und Bewirtschafter werden danach per E-Mail erneut \\u00c3\\u00bcber den Pflichtstatus aufgrund der neuen Datengrundlage 2023 informiert. Massgebend f\\u00c3\\u00bcr das Jahr 2024, in dem das Schleppschlauchobligatorium in Kraft tritt, sind die Angaben der Strukturdatenerhebung 2024.', 'Aktualiserte Informationen zur Schleppschlauchpflicht und Formulare zur Einreichung von Gesuchen f\\u00c3\\u00bcr Fl\\u00c3\\u00a4chenkompensation und von Ausnahmegesuchen sind in den untenstehenden Hilfsmitteln zu finden.', 'Vollzugszust\\u00c3\\u00a4ndigkeit', 'Vollzugszust\\u00c3\\u00a4ndigkeit', 'Im Kanton St.Gallen ist die politische Gemeinde f\\u00c3\\u00bcr den Vollzug der LRV-Auflagen im Bereich der D\\u00c3\\u00bcngerausbringung zust\\u00c3\\u00a4ndig. Die Bauverwaltung der Gemeinde ist somit die zust\\u00c3\\u00a4ndige Stelle f\\u00c3\\u00bcr den Vollzug der Schlepp\\u00c2\\\\xadschlauchpflicht, inkl. der Bewilligung von Ausnahmegesuchen.', 'Die Bauverwaltung der Gemeinde ist somit die zust\\u00c3\\u00a4ndige Stelle f\\u00c3\\u00bcr den Vollzug der Schlepp\\u00c2\\\\xadschlauchpflicht, inkl. der Bewilligung von Ausnahmegesuchen.', 'Ausk\\u00c3\\u00bcnfte: Bauverwaltung der politischen Gemeinde', 'Ausk\\u00c3\\u00bcnfte: Bauverwaltung der politischen Gemeinde', 'Amt f\\u00c3\\u00bcr Umwelt: Walter Richner,\\\\xa0walter.richner@sg.ch', 'walter.richner@sg.ch', 'Hilfsmittel', 'Merkblatt \\\"Informationen zur Schleppschlauch-Pflicht ab 2024\\\", Kanton St.Gallen(750 kB, PDF, 01.02.2023)', 'Kriterienliste f\\u00c3\\u00bcr Ausnahmegesuche, Kanton St.Gallen(297 kB, PDF)', 'Formulare f\\u00c3\\u00bcr Ausnahmegesuche, Kanton St.Gallen(523 kB, PDF, 01.02.2023)', 'Merkblatt \\u00c2\\u00abEmissionsmindernde Ausbringverfahren\\u00c2\\u00bb inkl. Kulturenliste. Agridea (im Auftrag von KVU und KOLAS), 2022(2020 kB, PDF)', '', 'Hofd\\u00c3\\u00bcngeraustrag', 'Hofd\\u00c3\\u00bcngeraustrag im Winter', 'Hofd\\u00c3\\u00bcngeraustrag im Winter', 'Temperaturverlauf und Vegetationsstand im Winter (Kt. SG)', 'AFU 217: Umgang mit Hof- und Recyclingd\\u00c3\\u00bcngern im Winter', 'Vollzug der Vorschriften', 'Vollzug der Vorschriften', 'Die politische Gemeinde vollzieht im Kanton St.Gallen die Vorschriften in den Anh\\u00c3\\u00a4ngen zur eidgen\\u00c3\\u00b6ssischen Chemikalien-Risikoreduktions-Verordnung \\u00c3\\u00bcber die Verwendung von D\\u00c3\\u00bcnger, D\\u00c3\\u00bcnger- und Bodenzus\\u00c3\\u00a4tzen; das Amt f\\u00c3\\u00bcr Umwelt ist hierf\\u00c3\\u00bcr nicht zust\\u00c3\\u00a4ndig.', 'Rechtsgrundlagen', 'Rechtsgrundlagen', 'Vollzugshilfsmittel: Gew\\u00c3\\u00a4sserschutz - Verwendung von D\\u00c3\\u00bcnger', 'Grundlagen D\\u00c3\\u00bcngeraustrag', 'Grundlagen D\\u00c3\\u00bcngeraustrag', 'Detailaufgaben und Hinweise', 'Detailaufgaben und Hinweise', 'A - Einschr\\u00c3\\u00a4nkungen bei der Verwendung von D\\u00c3\\u00bcngern', 'Fl\\u00c3\\u00bcssige D\\u00c3\\u00bcnger d\\u00c3\\u00bcrfen nur ausgebracht werden, wenn der Boden saug- und aufnahmef\\u00c3\\u00a4hig ist. D\\u00c3\\u00bcnger d\\u00c3\\u00bcrfen vor allem dann nicht ausgebracht werden, wenn der Boden wasserges\\u00c3\\u00a4ttigt, gefroren, schneebedeckt oder ausgetrocknet ist (Anhang 2.6 Ziff. 3.2.1 Abs. 2 ChemRRV).', 'Stickstoffhaltige D\\u00c3\\u00bcnger d\\u00c3\\u00bcrfen grunds\\u00c3\\u00a4tzlich nur zu Zeiten ausgebracht werden, in denen die Pflanzen den Stickstoff aufnehmen k\\u00c3\\u00b6nnen (Anhang 2.6 Ziff. 3.2.1 Abs. 1 erster Satz ChemRRV).', 'Bei der Beurteilung des richtigen Ausbringzeitpunktes hilft das vom Bundesamt f\\u00c3\\u00bcr Umwelt, Wald und Landschaft (BUWAL, heute BAFU) und Bundesamt f\\u00c3\\u00bcr Landwirtschaft (BLW) gemeinsam herausgegebene Merkblatt \\\"D\\u00c3\\u00bcngen zur richtigen Zeit\\\". Hilfestellung bei der fachlichen Beurteilung leisten auch die D\\u00c3\\u00bcngerberatungsstellen in den Landwirtschaftlichen Zentren SG, Standorte Salez und Flawil.', 'Die untenstehende Tabelle zeigt die Beurteilung des Risikos von G\\u00c3\\u00bclleaustrag (bei der Wahrnehmung der allgemeinen Sorgfaltspflicht). Grunds\\u00c3\\u00a4tze zum D\\u00c3\\u00bcngeraustrag im Winter:', 'Textalternative zum Bild: Tabelle G\\u00fclleaustrag - neues Fenster', 'Textalternative zum Bild: Tabelle G\\u00fclleaustrag - neues Fenster', 'Die Gemeinde ist nicht befugt, sogenannte Notaustr\\u00c3\\u00a4ge zu gestatten!', 'Die Gemeinde ist nicht befugt, sogenannte Notaustr\\u00c3\\u00a4ge zu gestatten!', 'B - Verbote, D\\u00c3\\u00bcnger an gewissen Standorten zu verwenden', 'D\\u00c3\\u00bcnger und Zus\\u00c3\\u00a4tze d\\u00c3\\u00bcrfen nicht verwendet werden:', 'C - Strafanzeige erheben', 'Wer bei der Verwendung von D\\u00c3\\u00bcngern gegen die oben genannten Einschr\\u00c3\\u00a4nkungen oder Verbote verst\\u00c3\\u00b6sst, macht sich strafbar. Die strafrechtliche Verfolgung erfolgt durch das zust\\u00c3\\u00a4ndige Untersuchungsamt. Die einschl\\u00c3\\u00a4gigen Strafbestimmungen sind Art. 60 Abs. 1 Bst. e USG sowie Art. 70 Abs. 1 Bst. a GSchG. Im Zusammenhang mit Widerhandlungen beim Ausbringen von G\\u00c3\\u00bclle kann auf die verschiedenen Merkbl\\u00c3\\u00a4tter und Muster f\\u00c3\\u00bcr Strafanzeigen verwiesen werden, die nachfolgend unter den Hilfsmittel zu finden sind.', 'Gerichts- und Verwaltungspraxis', 'Gerichts- und Verwaltungspraxis', 'Vollzugshilfsmittel: Verwendung von D\\u00c3\\u00bcnger - Gerichts- und Verwaltungspraxis', 'Links und Hilfsmittel', 'Links und Hilfsmittel', 'Formular FM 142: Checkliste Umgang mit Hofd\\u00c3\\u00bcnger', 'AFU185: G\\u00c3\\u00bcllen zu Unzeiten oder an verbotenen Orten', 'AFU186: G\\u00c3\\u00bcllen im Winter', 'AFU187: Verletzung von Sorgfaltspflichten beim G\\u00c3\\u00bcllen', 'AFU188: Verschmutzung des Trinkwassers', 'Temperaturverlauf und Vegetationsstand im Winter (Kt. SG)', 'Agridea Merkblatt: Emissionsmindernde Ausbringverfahren 2014-2021', 'D\\u00c3\\u00bcngen im Winter 2014-2015 Medienmitteilung', 'D\\u00c3\\u00bcngen zur richitgen Zeit - BUWAL 1996', '', 'Pufferstreifen', 'Kontrolle', 'Kontrolle', 'Auf dem Kulturland ausgebrachte D\\u00c3\\u00bcnger und Pflanzenschutzmittel d\\u00c3\\u00bcrfen nicht in benachbarte Hecken, Feld- und Ufergeh\\u00c3\\u00b6lze, Feuchtgebiete, W\\u00c3\\u00a4lder oder Gew\\u00c3\\u00a4sser gelangen, weil damit das \\u00c3\\\\x96kosystem gef\\u00c3\\u00a4hrdet w\\u00c3\\u00bcrde. In Gew\\u00c3\\u00a4ssern beispielsweise richten bereits kleine Mengen dieser Stoffe grossen Schaden an. Fische und andere Kleintiere werden vernichtet und das Gew\\u00c3\\u00a4sser bleibt f\\u00c3\\u00bcr lange Zeit nachhaltig vergiftet.', 'Aus diesem Grund braucht es einen Pufferstreifen zwischen Kulturland und den erw\\u00c3\\u00a4hnten Lebensr\\u00c3\\u00a4umen. Es ist verboten, D\\u00c3\\u00bcnger und Pflanzenschutzmittel in diesem Pufferstreifen auszubringen. Ausgenommen sind Einzelstockbehandlungen von Problempflanzen, sofern diese mit anderen Massnahmen, wie regelm\\u00c3\\u00a4ssigem M\\u00c3\\u00a4hen, nicht erfolgreich bek\\u00c3\\u00a4mpft werden k\\u00c3\\u00b6nnen.', 'Ein Verstoss gegen dieses Verbot kann strafrechtliche und verwaltungsrechtliche Konsequenzen nach sich ziehen.', 'Rechtsgrundlagen', 'Rechtsgrundlagen', 'Vollzugshilfsmittel Gew\\u00c3\\u00a4sserschutz: Pufferstreifen kontrollieren', 'Agridea-Merkblatt: Pufferstreifen - richtig messen und bewirtschaften', 'Detailaufgaben und Hinweise', 'Detailaufgaben und Hinweise', 'A - Wo sind Pufferstreifen zu respektieren?', 'An Gew\\u00c3\\u00a4ssern (B\\u00c3\\u00a4che, Entw\\u00c3\\u00a4sserungsgraben, Fl\\u00c3\\u00bcsse, Seen), W\\u00c3\\u00a4ldern, Hecken, Feld- und Ufergeh\\u00c3\\u00b6lzen.', 'Die Breite eines Pufferstreifens betr\\u00c3\\u00a4gt bei W\\u00c3\\u00a4ldern, Hecken, Feld- und Ufergeh\\u00c3\\u00b6lzen drei Meter.', 'Bei Gew\\u00c3\\u00a4ssern ist ebenfalls ein Pufferstreifen von drei Meter zu beachten. Hier ist allerdings noch eine Besonderheit bei der Messmethode zu ber\\u00c3\\u00bccksichtigen:', '1 Die nachfolgenden Abbildungen sind dem Merkblatt \\u00e2\\\\x80\\\\x9eGew\\u00c3\\u00a4sserraum und Landwirtschaft\\u00e2\\\\x80\\\\x9c vom 20. Mai 2014 entnommen (erarbeitet vom BAFU, BLW und ARE in Zusammenarbeit mit den Kantonen).', 'Messweise ohne Ausscheidung des Gew\\u00c3\\u00a4sserraums: Messung ab B\\u00c3\\u00b6schungsoberkante.', '', 'Bis heute sind im Kanton St. Gallen noch kaum Gew\\u00c3\\u00a4sserr\\u00c3\\u00a4ume ausgeschieden worden. In den meisten F\\u00c3\\u00a4llen wird daher ab der B\\u00c3\\u00b6schungsoberkante zu messen sein.', 'wird ab der Uferlinie gemessen.', 'Messweise mit Ausscheidung des Gew\\u00c3\\u00a4sserraums: Messung ab Uferlinie.', 'Massgebend f\\u00c3\\u00bcr die Messung ist dabei das Pufferstreifenmerkblatt \\u00e2\\\\x80\\\\x9ePufferstreifen - richtig messen und bewirtschaften\\\" von AGRIDEA', 'Merkblatt AGRIDEA \\\"Pufferstreifen - richtig messen und bewirtschaften\\\"', 'Merkblatt AGRIDEA \\\"Pufferstreifen - richtig messen und bewirtschaften\\\"', 'C - Was ist D\\u00c3\\u00bcnger?', 'In diesem Zusammenhang relevant sind Hofd\\u00c3\\u00bcnger wie Jauche, Mist, Mistw\\u00c3\\u00a4sser, Silos\\u00c3\\u00a4fte und vergleichbare Abg\\u00c3\\u00a4nge aus Betrieben mit Tierhaltung, Minerald\\u00c3\\u00bcnger und Recyclingd\\u00c3\\u00bcnger wie Kompost und G\\u00c3\\u00a4rgut.', 'D - Kontrolle durch die politische Gemeinde', 'Die Kontrolle der Pufferstreifen obliegt im Kanton St. Gallen den politischen Gemeinden. Wie die Gemeinden die Erf\\u00c3\\u00bcllung dieser Kontrollaufgaben organisieren, steht ihnen frei. So k\\u00c3\\u00b6nnen sich beispielsweise Nachbargemeinden zusammenschliessen und/oder Private (Experten) mit der Kontrolle beauftragen.', 'Wird festgestellt, dass Pufferstreifen nicht respektiert worden sind, ist dies der Polizei oder der politischen Gemeinde zu melden. Zu Beweiszwecken sollten Fotos des gesamten Streifens gemacht werden. Um den Abstand nachvollziehbar darzustellen, wird idealerweise ein Doppelmeter verwendet. Notwendig ist auch die Aufnahme der Streckenl\\u00c3\\u00a4nge, auf welcher der Pufferstreifen nicht eingehalten worden ist.', 'E - Konsequenzen', 'a) Strafrechtliche Konsequenzen', 'a) Strafrechtliche Konsequenzen', 'Wer im Pufferstreifen D\\u00c3\\u00bcnger oder Pflanzenschutzmittel ausbringt, macht sich nach Umweltschutzgesetz und Gew\\u00c3\\u00a4sserschutzgesetz strafbar. Der Bewirtschafter muss mit einer Geldstrafe oder mit einer Busse rechnen.', 'b) Verwaltungsrechtliche Konsequenzen', 'b) Verwaltungsrechtliche Konsequenzen', 'Das Nichtbeachten des Pufferstreifens kann eine K\\u00c3\\u00bcrzung der Direktzahlungen an den Bewirtschafter zur Folge haben.', 'F - Pufferstreifen im \\u00c3\\u00b6kologischen Leistungsnachweis (\\u00c3\\\\x96LN)', 'Die Kontrolle der weitergehenden Bestimmungen des \\u00c3\\\\x96LN erfolgt durch den Landwirtschaftlichen Kontrolldienst.', 'Hilfsmittel', 'Hilfsmittel', 'AFU209: Kontrolle von Pufferstreifen', 'Referat: \\\"Kontrolle von Pufferstreifen\\\", Martin Anderegg(1746 kB, PDF, 01.11.2018)', 'Referat: \\\"Kontrolle von Pufferstreifen\\\", Fredy Trefny(6114 kB, PDF, 01.11.2015)', 'Die beiden Referate wurden an den Informationsveranstaltungen f\\u00c3\\u00bcr Gemeinden im November 2015 gehalten. Falls Sie die Referate zu Schulungszwecken verwenden m\\u00c3\\u00b6chten, verlangen Sie diese beim AFU im Powerpoint-Format.', '\\\"Pufferstreifen\\\" Text f\\u00c3\\u00bcr Ihr Gemeindeblatt', 'D\\u00c3\\u00bcngen im Winter 2014/2015 - Medienmitteilung(77 kB, PDF, 16.12.2014)', '', 'D\\u00c3\\u00bcngung auf Alpen', 'Folgende Regeln gelten im Zusammenhang mit der Zufuhr fremder D\\u00c3\\u00bcnger auf Alpen:', '', 'AFU196: Zufuhr fremder D\\u00c3\\u00bcnger auf Alpen - Vorschriften', 'FM202: Zufuhr fremder D\\u00c3\\u00bcnger auf Alpen - Antrag', 'Noch offene Fragen?', 'Wir sind f\\u00c3\\u00bcr Sie da.', 'Wir sind f\\u00c3\\u00bcr Sie da.', 'Walter Richner', 'Sektionsleiter Landwirtschaftlicher Umweltschutz', 'Amt f\\u00c3\\u00bcr Umwelt', 'L\\u00c3\\u00a4mmlisbrunnenstrasse 54\\\\n\\\\t\\\\t\\\\t\\\\t\\\\t\\\\t\\\\n\\\\t\\\\t\\\\t\\\\t\\\\t\\\\t9001 St.Gallen', '+41 58 229 27 69', 'walter.richner@sg.ch', 'F\\u00fcr Sie da', 'Zust\\u00e4ndig f\\u00fcr den Inhalt dieser Seite:', 'Amt f\\u00c3\\u00bcr Umwelt AFU', 'Amt f\\u00c3\\u00bcr Umwelt AFU', 'Letzte Aktualisierung: 22.11.2023', 'Bleiben Sie in Kontakt mit uns auf Social Media:', '', '', '', '', '', 'Medienstelle', 'Medienstelle', 'Unsere Themen', 'Merkbl\\u00c3\\u00a4tter, Infobl\\u00c3\\u00a4tter, Formulare, Downloads...', 'Abfall', 'Altlasten und belastete Standorte', 'Boden', 'L\\u00c3\\u00a4rm und Ersch\\u00c3\\u00bctterungen', 'Lagerung gef\\u00c3\\u00a4hrlicher Stoffe', 'Luft', 'St\\u00c3\\u00b6rfallvorsorge und Biosicherheit', 'Strahlung und Licht (inkl. Info zu 5G)', 'Wasser', 'Kundengruppen', 'Vollzugshilfsmittel Umweltschutz', 'Bauen', 'Rechtsgrundlagen', 'Umweltstrafrecht', 'G\\u00c3\\u00a4rtnern ohne Pestizide', 'Bestens informiert', 'Den Kanton noch besser kennen lernen? Tragen Sie Ihre E-Mail Adresse ein und Sie erhalten regelm\\u00c3\\u00a4ssig Neuigkeiten aus dem Thema Umwelt.', 'W\\u00e4hlen Sie die Bereiche aus, f\\u00fcr welche Sie einen Newsletter w\\u00fcnschen:', 'Kantonsrat', 'Regierung', 'Departemente und Staatskanzlei', 'Gerichte', 'Kontakte Amt f\\u00c3\\u00bcr Umwelt', 'Impressum', 'Datenschutz sg.ch', 'Webmail', 'Intern']\",\n          \"['Accesskeys', 'Direkt zur Startseite', 'Direkt zur Navigation', 'Direkt zum Inhalt', 'Direkt zur Suche', '', 'Suche \\u00c3\\u00b6ffnen', 'Inhaltstyp', 'Natur & Landschaft\\\\nTeam Natur und Landschaft', 'Natur & Landschaft\\\\nBiodiversit\\u00c3\\u00a4t', 'Natur & Landschaft\\\\nAusnahmebewilligungen', 'Natur & Landschaft\\\\nSchutzverordnungen', 'Natur & Landschaft\\\\nGA\\u00c3\\u00b6L-Naturschutzvertr\\u00c3\\u00a4ge', 'Natur & Landschaft\\\\nInvasive Neobiota', 'Natur & Landschaft\\\\nProjektunterst\\u00c3\\u00bctzung', 'Pilze\\\\n\\\\n neues Fenster', '', 'Men\\u00c3\\u00bc aufklappen', 'Mobiles Men\\u00c3\\u00bc \\u00c3\\u00b6ffnen', 'logo for mobile-menu', 'Artenvielfalt', 'Invasive Neobiota', 'Tiere', 'Pflanzen', 'Pilze', 'Pflanzen- und Tierschutzaufsicht', 'Men\\u00c3\\u00bc aufklappen', 'Artenvielfalt erhalten', 'Drucken', 'Teilen', 'Mobiles Men\\u00c3\\u00bc schliessen', 'logo for mobile-menu', 'Alle Themen', '\\u00c3\\\\x9cber den Kanton', 'Politik & Verwaltung', 'Bauen', 'Bildung & Sport', 'Gesundheit & Soziales', 'Kultur', 'Recht', 'Sicherheit', 'Steuern & Finanzen', 'Umwelt & Natur', 'Verkehr', 'Wirtschaft & Arbeit', 'Umwelt & Natur', 'Umwelt', 'Wasser', 'Energie', 'Natur & Landschaft', 'Naturgefahren', 'Jagd & Fischerei', 'Wald', 'Landwirtschaft', 'Veterin\\u00c3\\u00a4rwesen', 'Klima', 'Nachhaltigkeit', 'Natur & Landschaft', 'Biodiversit\\u00c3\\u00a4t', 'Landschaft', 'Schutzverordnungen', 'GA\\u00c3\\u00b6L-Naturschutzvertr\\u00c3\\u00a4ge', '\\u00c3\\\\x96kologischer Ausgleich', 'Ausnahmebewilligungen', 'Projektunterst\\u00c3\\u00bctzung', 'Team Natur und Landschaft', 'Biodiversit\\u00c3\\u00a4t', 'Biodiversit\\u00c3\\u00a4tsstrategie', 'Artenvielfalt', 'Lebensraumvielfalt', 'Genetische Vielfalt', 'Partnerschaft mit Naturinfo neues Fenster', 'Artenvielfalt', 'Invasive Neobiota', 'Tiere', 'Pflanzen', 'Pilze', 'Pflanzen- und Tierschutzaufsicht', 'Weitere Informationen', 'Biodiversit\\u00c3\\u00a4tsstrategie St.Gallen neues Fenster', 'Aufgrund der topografischen, r\\u00c3\\u00a4umlichen und klimatischen Verh\\u00c3\\u00a4ltnisse gibt es in unserem Kanton eine ausserordentliche Artenvielfalt mit zahlreichen seltenen und bedrohten Tier- und Pflanzenarten. Wir tragen daher eine besondere Verantwortung die 125 national priorit\\u00c3\\u00a4ren Arten zu erhalten.', 'Vorlesen', '', '', 'Der Ostalpen-Enzian w\\u00c3\\u00a4chst im Bereich der \\u00c3\\u00b6stlichen Churfirsten.', '', 'Arten brauchen Lebensraum', 'Arten brauchen Lebensraum', 'Die Erhaltung der Artenvielfalt geschieht prim\\u00c3\\u00a4r \\u00c3\\u00bcber den Lebensraumschutz. Arten mit spezifischen Lebensraumanspr\\u00c3\\u00bcchen sind auf gen\\u00c3\\u00bcgend grosse, qualitativ hochwertige und gut vernetzte Lebensr\\u00c3\\u00a4ume angewiesen.', 'Einzelne Arten brauchen massgeschneiderte Schutzmassnahmen', 'Einzelne Arten brauchen massgeschneiderte Schutzmassnahmen', 'Zur Erhaltung und F\\u00c3\\u00b6rderung der Artenvielfalt sind erg\\u00c3\\u00a4nzend zu Massnahmen im Lebensraum oft spezifische Artenschutzmassnahmen n\\u00c3\\u00b6tig. Im Kanton wurden bereits verschiedene Artenf\\u00c3\\u00b6rderungsprojekte lanciert. Die Anstrengungen sollen gem\\u00c3\\u00a4ss der kantonalen Biodiversit\\u00c3\\u00a4tsstrategie in den n\\u00c3\\u00a4chsten Jahren noch verst\\u00c3\\u00a4rkt werden.', 'Biodiversit\\u00c3\\u00a4tsstrategie', 'Konzept Artenf\\u00c3\\u00b6rderung Schweiz (BAFU) neues Fenster', 'Arten haben unterschiedlich hohe Artwerte', 'Arten haben unterschiedlich hohe Artwerte', 'Der Artwert (AW) ist eine Zahl von 0 - 18, die den Gef\\u00c3\\u00a4hrdungsgrad einer Art, die Gr\\u00c3\\u00b6sse ihres Verbreitungsareals und den kantonalen Anteil am Gesamtbestand der Schweiz widerspiegelt. Je h\\u00c3\\u00b6her der Artwert ist, umso gr\\u00c3\\u00b6sser ist die Verantwortung des Kantons f\\u00c3\\u00bcr die Erhaltung und F\\u00c3\\u00b6rderung einer Art.', 'Hohe Artwerte erreichen zum Beispiel die Sibirische Winterlibelle (AW 9), das Grosse Wiesenv\\u00c3\\u00b6gelchen (AW 11) oder der Gelbringfalter (AW 9). Dagegen erreichen ungef\\u00c3\\u00a4hrdete Arten wie der Haussperling oder der Fuchs nur einen Artwert von 0.', 'F\\u00c3\\u00bcr die Priorisierung von Artenschutzmassnahmen sind neben dem Artwert, die Kenntnis von F\\u00c3\\u00b6rdermassnahmen, deren Erfolgsaussichten sowie der Handlungsbedarf und die Dringlichkeit f\\u00c3\\u00bcr den Schutz einer Art zu ber\\u00c3\\u00bccksichtigen.', 'Artwertberechnung SG Tabelle(45 kB, XLSX)', 'Noch offene Fragen?', 'Wir sind f\\u00c3\\u00bcr Sie da.', 'Wir sind f\\u00c3\\u00bcr Sie da.', 'Pirmin Reichmuth', 'Abteilung Natur & Landschaft', 'Abteilung Natur & Landschaft', 'Amt f\\u00c3\\u00bcr Natur, Jagd und Fischerei', 'Amt f\\u00c3\\u00bcr Natur, Jagd und Fischerei', 'Davidstrasse 35\\\\n\\\\t\\\\t\\\\t\\\\t\\\\t\\\\t\\\\n\\\\t\\\\t\\\\t\\\\t\\\\t\\\\t9001 St.Gallen', '+41 58 229 63 51', 'pirmin.reichmuth@sg.ch', 'F\\u00fcr Sie da', 'Zust\\u00e4ndig f\\u00fcr den Inhalt dieser Seite:', 'Kanton St.Gallen', 'Kanton St.Gallen', 'Letzte Aktualisierung: 03.09.2021', 'Bleiben Sie in Kontakt mit uns auf Social Media:', '', '', '', '', '', 'Medienstelle', 'Medienstelle', 'Unsere Themen', 'Biodiversit\\u00c3\\u00a4t', 'Natur- und Kulturlandschaften', 'Schutzverordnungen', 'GA\\u00c3\\u00b6L-Naturschutzvertr\\u00c3\\u00a4ge', '\\u00c3\\\\x96kologischer Ausgleich', 'Ausnahmebewilligungen', 'Unterst\\u00c3\\u00bctzung f\\u00c3\\u00bcr Projekte', 'Team Natur und Landschaft', 'Bestens informiert', 'Den Kanton etwas besser kennen lernen? Erhalten Sie t\\u00c3\\u00a4glich die Neuigkeiten aus dem Thema Natur & Landschaft.', 'W\\u00e4hlen Sie die Bereiche aus, f\\u00fcr welche Sie einen Newsletter w\\u00fcnschen:', 'Kantonsrat', 'Regierung', 'Departemente und Staatskanzlei', 'Gerichte', 'Impressum', 'Datenschutz sg.ch', 'Webmail', 'Intern']\"\n        ],\n        \"semantic_type\": \"\",\n        \"description\": \"\"\n      }\n    },\n    {\n      \"column\": \"blockquotes\",\n      \"properties\": {\n        \"dtype\": \"string\",\n        \"num_unique_values\": 3710,\n        \"samples\": [\n          \"['Direkt zur Startseite', 'Direkt zur Navigation', 'Direkt zum Inhalt', 'Direkt zur Suche', '', 'Suche \\u00c3\\u00b6ffnen', 'Berufs-, Studien- & Laufbahnberatung\\\\nBerufs- und Schulwahl', 'Berufs-, Studien- & Laufbahnberatung\\\\nStudienwahl', 'Berufs-, Studien- & Laufbahnberatung\\\\nLaufbahn', 'Berufs-, Studien- & Laufbahnberatung\\\\nStandorte', 'Berufs-, Studien- & Laufbahnberatung\\\\nBIZ / eBIZ', 'Berufs-, Studien- & Laufbahnberatung\\\\nAnmeldung zur Beratung', '', 'Men\\u00c3\\u00bc aufklappen', 'Mobiles Men\\u00c3\\u00bc \\u00c3\\u00b6ffnen', 'logo for mobile-menu', 'Architekturmodellbauer/in EFZ', 'Men\\u00c3\\u00bc aufklappen', 'Drucken', 'Teilen', 'Mobiles Men\\u00c3\\u00bc schliessen', 'logo for mobile-menu', 'Alle Themen', '\\u00c3\\\\x9cber den Kanton', 'Politik & Verwaltung', 'Bauen', 'Bildung & Sport', 'Gesundheit & Soziales', 'Kultur', 'Recht', 'Sicherheit', 'Steuern & Finanzen', 'Umwelt & Natur', 'Verkehr', 'Wirtschaft & Arbeit', 'Bildung & Sport', 'Bildungsrat', 'Volksschule', 'Mittelschulen', 'Hochschulen', 'Berufsbildung', 'Berufs-, Studien- & Laufbahnberatung', 'Stipendien und Studiendarlehen', 'Offene Stellen f\\u00c3\\u00bcr Lehrpersonen', '\\u00c3\\\\x9cber die Bildung', 'Sport', 'Berufs-, Studien- & Laufbahnberatung', '\\u00c3\\\\x9cber uns', 'Standorte', 'eBIZ', 'Download-Center', 'Anmeldung zur Beratung', 'eBIZ', 'Interessen', '3 - gestalten, versch\\u00c3\\u00b6nern, drucken, im Bereich Life Style und Sport t\\u00c3\\u00a4tig sein', 'Berufsfeld Gestaltung, Kunsthandwerk', 'Architekturmodellbauer/in EFZ', '(Quelle: www.berufsberatung.ch)', 'Vorlesen', '', '', 'Schnuppern\\\\nInfoveranstaltungen und Schnupperbetriebe', 'Lehrstellen\\\\nWo finde ich offene Lehrstellen?', 'Schule\\\\nWo besuche ich die Berufsfachschule?', 'Lohn\\\\nWie viel verdiene ich in der Lehre?', 'Eignungstests\\\\nStellwerk und Eignungstests', 'Ausleihmedien und weitere Infos\\\\nLehrabschluss f\\u00c3\\u00bcr Erwachsene - Sport - etc.', '', 'Dauer der Lehre', '', 'Infoveranstaltungen und Schnupperbetriebe', '', 'Infoveranstaltungen im Kanton St.Gallen (Berufsfeld Gestaltung, Kunsthandwerk) neues Fenster', 'Online-Veranstaltungen schweizweit (Berufsfeld Gestaltung, Kunsthandwerk) neues Fenster', 'Lehrfirmen Architekturmodellbauer/in EFZ neues Fenster', 'Wo finde ich offene Lehrstellen?', '', 'Liste der offenen Lehrstellen im Kanton St.Gallen neues Fenster', 'Liste der offenen Lehrstellen im Kanton St.Gallen und in angrenzenden Kantonen neues Fenster', 'Hilfe bei Lehrstellen-suche & Bewerbung?\\\\nRund um die Lehrstellensuche\\\\n\\\\n neues Fenster', 'Wo besuche ich die Berufsfachschule?', '', 'Baugewerbliche Berufsschule Z\\u00c3\\u00bcrich', 'Wie viel verdiene ich in der Lehre?', '', 'Stellwerk, Basic-/Multicheck & Co.', '', 'www.lernpassplus.ch', 'www.multicheck.org', 'www.basic-check.ch', 'Welche Medien kann ich im BIZ ausleihen?', '', 'neues Fenster', 'neues Fenster', 'Weitere Infos | Lehrabschluss f\\u00c3\\u00bcr Erwachsene, Sport ...', '', 'Kein Lehrabschluss?\\\\nInformationen zum Berufsabschluss f\\u00c3\\u00bcr Erwachsene\\\\n\\\\n neues Fenster', 'Bist du ein Sporttalent?\\\\nBerufs- Studien- und Laufbahnberatung und Leistungssport\\\\n\\\\n neues Fenster', 'Wie die Lehre finanzieren?\\\\nFinanzierung von Aus- und Weiterbildungen\\\\n\\\\n neues Fenster', 'Zwei Thurgauer Unternehmen bauen Tr\\u00c3\\u00a4ume im Modellformat (Tagblatt, 19. November 2019) neues Fenster', '', 'Erfahre mehr zu diesem Beruf...\\\\n neues Fenster', 'Wir sind f\\u00c3\\u00bcr Sie da.', 'info.berufsberatung@sg.ch', 'Der Standort in Ihrer N\\u00c3\\u00a4he', 'Berufs-, Studien- und Laufbahnberatung neues Fenster', '', '', '', '', '', 'Medienstelle', '\\u00c3\\\\x9cber uns', 'Standorte', 'eBIZ', 'Download-Center', 'Anmeldung zur Beratung', 'Kantonsrat', 'Regierung', 'Departemente und Staatskanzlei', 'Gerichte', 'Impressum', 'Datenschutz sg.ch', 'Webmail', 'Intern']\",\n          \"['Direkt zur Startseite', 'Direkt zur Navigation', 'Direkt zum Inhalt', 'Direkt zur Suche', '', 'Suche \\u00c3\\u00b6ffnen', 'Mitglieder des Kantonsrates\\\\n\\\\n neues Fenster', 'Politik & Verwaltung\\\\nMitglieder der Regierung', 'Politik & Verwaltung\\\\nAdressen der Kantonsverwaltung', 'Politik & Verwaltung\\\\nGemeinden', 'Abstimmungen & Wahlen\\\\nAktuelle Abstimmungen', 'Abstimmungen & Wahlen\\\\nAktuelle Wahlen', '', 'Men\\u00c3\\u00bc aufklappen', 'Mobiles Men\\u00c3\\u00bc \\u00c3\\u00b6ffnen', 'logo for mobile-menu', 'Industrie und Gewerbe', 'Men\\u00c3\\u00bc aufklappen', 'Drucken', 'Teilen', 'Mobiles Men\\u00c3\\u00bc schliessen', 'logo for mobile-menu', 'Alle Themen', '\\u00c3\\\\x9cber den Kanton', 'Politik & Verwaltung', 'Bauen', 'Bildung & Sport', 'Gesundheit & Soziales', 'Kultur', 'Recht', 'Sicherheit', 'Steuern & Finanzen', 'Umwelt & Natur', 'Verkehr', 'Wirtschaft & Arbeit', 'Politik & Verwaltung', 'Kantonsrat', 'Regierung', 'Departemente und Staatskanzlei', 'Gemeinden', 'Wahlen & Abstimmungen', 'Kantonale Vernehmlassungen', 'Eidgen\\u00c3\\u00b6ssische Vernehmlassungen', 'Departemente und Staatskanzlei', 'Staatskanzlei', 'Volkswirtschaftsdepartement', 'Departement des Innern', 'Bildungsdepartement', 'Finanzdepartement', 'Bau- und Umweltdepartement', 'Sicherheits- und Justizdepartement', 'Gesundheitsdepartement', 'Bau- und Umweltdepartement', 'Generalsekretariat', 'Amt f\\u00c3\\u00bcr Raumentwicklung und Geoinformationen', 'Hochbauamt', 'Tiefbauamt', 'Amt f\\u00c3\\u00bcr Umwelt', 'Amt f\\u00c3\\u00bcr Wasser und Energie', 'Amt f\\u00c3\\u00bcr Umwelt', 'Zentrale Dienste', 'Industrie und Gewerbe', 'Boden und Stoffkreislauf', 'Recht und UVP', 'Industrie und Gewerbe', 'Vorlesen', '', 'Link zu OSTLUFT', 'Link zur Kundengruppe Industrie und Gewerbe', 'Schlagenhauf Lukas', 'Eberhard Yves', 'Giger Larissa', 'Lieberherr Stephan', 'Widmer Susanne', 'Zipper Daniel', 'Hutter Mathias', 'Fachin Ennio', 'Arens Frank', 'Freiermuth Paul', 'Gasser Ren\\u00c3\\u00a9', 'Geisser Christian', 'Taner Daniela', 'Trochsler Andreas', 'Tanner Markus', 'Noger Dominik', 'Schlatter Susanne', 'Burgard Christoph', 'Tribelhorn Roman', 'Lusti Christian', 'M\\u00c3\\u00bcller Ruedi', 'Henke Jana', 'G\\u00c3\\u00b6tte Manuel', 'Sammelnummer und Auskunft', '+41 58 229 31 11', 'info@sg.ch', 'Kanton St.Gallen', '', '', '', '', '', 'Medienstelle', 'Kantonsrat', 'Regierung', 'Kontakte Departemente und Staatskanzlei', 'Gemeinden', 'Wahlen & Abstimmungen', 'Kantonale Vernehmlassungen', 'Eidgen\\u00c3\\u00b6ssische Vernehmlassungen', 'Kantonsrat', 'Regierung', 'Departemente und Staatskanzlei', 'Gerichte', 'Impressum', 'Datenschutz sg.ch', 'Webmail', 'Intern']\",\n          \"['Direkt zur Startseite', 'Direkt zur Navigation', 'Direkt zum Inhalt', 'Direkt zur Suche', '', 'Suche \\u00c3\\u00b6ffnen', 'Mitglieder des Kantonsrates\\\\n\\\\n neues Fenster', 'Politik & Verwaltung\\\\nMitglieder der Regierung', 'Politik & Verwaltung\\\\nAdressen der Kantonsverwaltung', 'Politik & Verwaltung\\\\nGemeinden', 'Abstimmungen & Wahlen\\\\nAktuelle Abstimmungen', 'Abstimmungen & Wahlen\\\\nAktuelle Wahlen', 'Men\\u00c3\\u00bc aufklappen', 'Mobiles Men\\u00c3\\u00bc \\u00c3\\u00b6ffnen', 'logo for mobile-menu', 'Digitale Services', 'Men\\u00c3\\u00bc aufklappen', 'Drucken', 'Teilen', 'Mobiles Men\\u00c3\\u00bc schliessen', 'logo for mobile-menu', 'Alle Themen', '\\u00c3\\\\x9cber den Kanton', 'Politik & Verwaltung', 'Bauen', 'Bildung & Sport', 'Gesundheit & Soziales', 'Kultur', 'Recht', 'Sicherheit', 'Steuern & Finanzen', 'Umwelt & Natur', 'Verkehr', 'Wirtschaft & Arbeit', 'Politik & Verwaltung', 'Kantonsrat', 'Regierung', 'Departemente und Staatskanzlei', 'Gemeinden', 'Wahlen & Abstimmungen', 'Kantonale Vernehmlassungen', 'Eidgen\\u00c3\\u00b6ssische Vernehmlassungen', 'Departemente und Staatskanzlei', 'Staatskanzlei', 'Volkswirtschaftsdepartement', 'Departement des Innern', 'Bildungsdepartement', 'Finanzdepartement', 'Bau- und Umweltdepartement', 'Sicherheits- und Justizdepartement', 'Gesundheitsdepartement', 'Staatskanzlei', 'Politische Planung, Controlling und F\\u00c3\\u00bchrungsunterst\\u00c3\\u00bctzung', 'Recht und Legistik', 'Kommunikation', 'Koordinationsstelle f\\u00c3\\u00bcr Aussenbeziehungen', 'Infrastruktur und zentrale Dienste', 'Digitale Services', 'Parlamentsdienste', 'Fachstelle f\\u00c3\\u00bcr Datenschutz', 'Digitale Services', 'Vorlesen', 'Digitale Services', '', '', '', 'Retrodigital neues Fenster', '', 'Publikationsplattform neues Fenster', '', '', 'Ratsinformationssystem neues Fenster', '', 'E-Portal neues Fenster', '', '', 'Beglaubigungen neues Fenster', '', 'Webshop Drucksachen neues Fenster', 'Kanton St.Gallen', '', '', '', '', '', 'Medienstelle', 'Kantonsrat', 'Regierung', 'Kontakte Departemente und Staatskanzlei', 'Gemeinden', 'Wahlen & Abstimmungen', 'Kantonale Vernehmlassungen', 'Eidgen\\u00c3\\u00b6ssische Vernehmlassungen', 'Kantonsrat', 'Regierung', 'Departemente und Staatskanzlei', 'Gerichte', 'Impressum', 'Datenschutz sg.ch', 'Webmail', 'Intern']\"\n        ],\n        \"semantic_type\": \"\",\n        \"description\": \"\"\n      }\n    },\n    {\n      \"column\": \"strong_bold\",\n      \"properties\": {\n        \"dtype\": \"category\",\n        \"num_unique_values\": 1029,\n        \"samples\": [\n          \"['Information', 'Gesuch', 'Bewilligung']\",\n          \"['Statistikprodukte']\",\n          \"['St.Galler Uferpatent']\"\n        ],\n        \"semantic_type\": \"\",\n        \"description\": \"\"\n      }\n    }\n  ]\n}",
              "type": "dataframe",
              "variable_name": "df"
            },
            "text/html": [
              "\n",
              "  <div id=\"df-04a13813-10ad-4130-9062-fd89d6e2c698\" class=\"colab-df-container\">\n",
              "    <div>\n",
              "<style scoped>\n",
              "    .dataframe tbody tr th:only-of-type {\n",
              "        vertical-align: middle;\n",
              "    }\n",
              "\n",
              "    .dataframe tbody tr th {\n",
              "        vertical-align: top;\n",
              "    }\n",
              "\n",
              "    .dataframe thead th {\n",
              "        text-align: right;\n",
              "    }\n",
              "</style>\n",
              "<table border=\"1\" class=\"dataframe\">\n",
              "  <thead>\n",
              "    <tr style=\"text-align: right;\">\n",
              "      <th></th>\n",
              "      <th>filepath</th>\n",
              "      <th>headings</th>\n",
              "      <th>paragraphs</th>\n",
              "      <th>blockquotes</th>\n",
              "      <th>strong_bold</th>\n",
              "    </tr>\n",
              "  </thead>\n",
              "  <tbody>\n",
              "    <tr>\n",
              "      <th>0</th>\n",
              "      <td>data/steuern-finanzen/data.html</td>\n",
              "      <td>['Accesskeys', 'Steuern &amp; Finanzen', 'Inhaltst...</td>\n",
              "      <td>['Accesskeys', 'Direkt zur Startseite', 'Direk...</td>\n",
              "      <td>['Direkt zur Startseite', 'Direkt zur Navigati...</td>\n",
              "      <td>[]</td>\n",
              "    </tr>\n",
              "    <tr>\n",
              "      <th>1</th>\n",
              "      <td>data/steuern-finanzen/finanzaufsicht/data.html</td>\n",
              "      <td>['Accesskeys', 'Inhaltstyp', 'Finanzaufsicht',...</td>\n",
              "      <td>['Accesskeys', 'Direkt zur Startseite', 'Direk...</td>\n",
              "      <td>['Direkt zur Startseite', 'Direkt zur Navigati...</td>\n",
              "      <td>[]</td>\n",
              "    </tr>\n",
              "    <tr>\n",
              "      <th>2</th>\n",
              "      <td>data/steuern-finanzen/steuern/data.html</td>\n",
              "      <td>['Accesskeys', 'Steuern', 'Inhaltstyp', 'Aktue...</td>\n",
              "      <td>['Accesskeys', 'Direkt zur Startseite', 'Direk...</td>\n",
              "      <td>['Direkt zur Startseite', 'Direkt zur Navigati...</td>\n",
              "      <td>[]</td>\n",
              "    </tr>\n",
              "    <tr>\n",
              "      <th>3</th>\n",
              "      <td>data/steuern-finanzen/steuern/steuern-bezahlen...</td>\n",
              "      <td>['Accesskeys', 'Inhaltstyp', 'Steuern bezahlen...</td>\n",
              "      <td>['Accesskeys', 'Direkt zur Startseite', 'Direk...</td>\n",
              "      <td>['Direkt zur Startseite', 'Direkt zur Navigati...</td>\n",
              "      <td>['Kantons- und Gemeindesteuern', 'Direkte Bund...</td>\n",
              "    </tr>\n",
              "    <tr>\n",
              "      <th>4</th>\n",
              "      <td>data/steuern-finanzen/steuern/steuerbuch/data....</td>\n",
              "      <td>['Accesskeys', 'Inhaltstyp', 'Steuerbuch und r...</td>\n",
              "      <td>['Accesskeys', 'Direkt zur Startseite', 'Direk...</td>\n",
              "      <td>['Direkt zur Startseite', 'Direkt zur Navigati...</td>\n",
              "      <td>['Das St. Galler Steuerbuch wurde mit dem 13. ...</td>\n",
              "    </tr>\n",
              "  </tbody>\n",
              "</table>\n",
              "</div>\n",
              "    <div class=\"colab-df-buttons\">\n",
              "\n",
              "  <div class=\"colab-df-container\">\n",
              "    <button class=\"colab-df-convert\" onclick=\"convertToInteractive('df-04a13813-10ad-4130-9062-fd89d6e2c698')\"\n",
              "            title=\"Convert this dataframe to an interactive table.\"\n",
              "            style=\"display:none;\">\n",
              "\n",
              "  <svg xmlns=\"http://www.w3.org/2000/svg\" height=\"24px\" viewBox=\"0 -960 960 960\">\n",
              "    <path d=\"M120-120v-720h720v720H120Zm60-500h600v-160H180v160Zm220 220h160v-160H400v160Zm0 220h160v-160H400v160ZM180-400h160v-160H180v160Zm440 0h160v-160H620v160ZM180-180h160v-160H180v160Zm440 0h160v-160H620v160Z\"/>\n",
              "  </svg>\n",
              "    </button>\n",
              "\n",
              "  <style>\n",
              "    .colab-df-container {\n",
              "      display:flex;\n",
              "      gap: 12px;\n",
              "    }\n",
              "\n",
              "    .colab-df-convert {\n",
              "      background-color: #E8F0FE;\n",
              "      border: none;\n",
              "      border-radius: 50%;\n",
              "      cursor: pointer;\n",
              "      display: none;\n",
              "      fill: #1967D2;\n",
              "      height: 32px;\n",
              "      padding: 0 0 0 0;\n",
              "      width: 32px;\n",
              "    }\n",
              "\n",
              "    .colab-df-convert:hover {\n",
              "      background-color: #E2EBFA;\n",
              "      box-shadow: 0px 1px 2px rgba(60, 64, 67, 0.3), 0px 1px 3px 1px rgba(60, 64, 67, 0.15);\n",
              "      fill: #174EA6;\n",
              "    }\n",
              "\n",
              "    .colab-df-buttons div {\n",
              "      margin-bottom: 4px;\n",
              "    }\n",
              "\n",
              "    [theme=dark] .colab-df-convert {\n",
              "      background-color: #3B4455;\n",
              "      fill: #D2E3FC;\n",
              "    }\n",
              "\n",
              "    [theme=dark] .colab-df-convert:hover {\n",
              "      background-color: #434B5C;\n",
              "      box-shadow: 0px 1px 3px 1px rgba(0, 0, 0, 0.15);\n",
              "      filter: drop-shadow(0px 1px 2px rgba(0, 0, 0, 0.3));\n",
              "      fill: #FFFFFF;\n",
              "    }\n",
              "  </style>\n",
              "\n",
              "    <script>\n",
              "      const buttonEl =\n",
              "        document.querySelector('#df-04a13813-10ad-4130-9062-fd89d6e2c698 button.colab-df-convert');\n",
              "      buttonEl.style.display =\n",
              "        google.colab.kernel.accessAllowed ? 'block' : 'none';\n",
              "\n",
              "      async function convertToInteractive(key) {\n",
              "        const element = document.querySelector('#df-04a13813-10ad-4130-9062-fd89d6e2c698');\n",
              "        const dataTable =\n",
              "          await google.colab.kernel.invokeFunction('convertToInteractive',\n",
              "                                                    [key], {});\n",
              "        if (!dataTable) return;\n",
              "\n",
              "        const docLinkHtml = 'Like what you see? Visit the ' +\n",
              "          '<a target=\"_blank\" href=https://colab.research.google.com/notebooks/data_table.ipynb>data table notebook</a>'\n",
              "          + ' to learn more about interactive tables.';\n",
              "        element.innerHTML = '';\n",
              "        dataTable['output_type'] = 'display_data';\n",
              "        await google.colab.output.renderOutput(dataTable, element);\n",
              "        const docLink = document.createElement('div');\n",
              "        docLink.innerHTML = docLinkHtml;\n",
              "        element.appendChild(docLink);\n",
              "      }\n",
              "    </script>\n",
              "  </div>\n",
              "\n",
              "\n",
              "<div id=\"df-c2b648a8-7504-4ae9-9a9d-8d48c2d788ab\">\n",
              "  <button class=\"colab-df-quickchart\" onclick=\"quickchart('df-c2b648a8-7504-4ae9-9a9d-8d48c2d788ab')\"\n",
              "            title=\"Suggest charts\"\n",
              "            style=\"display:none;\">\n",
              "\n",
              "<svg xmlns=\"http://www.w3.org/2000/svg\" height=\"24px\"viewBox=\"0 0 24 24\"\n",
              "     width=\"24px\">\n",
              "    <g>\n",
              "        <path d=\"M19 3H5c-1.1 0-2 .9-2 2v14c0 1.1.9 2 2 2h14c1.1 0 2-.9 2-2V5c0-1.1-.9-2-2-2zM9 17H7v-7h2v7zm4 0h-2V7h2v10zm4 0h-2v-4h2v4z\"/>\n",
              "    </g>\n",
              "</svg>\n",
              "  </button>\n",
              "\n",
              "<style>\n",
              "  .colab-df-quickchart {\n",
              "      --bg-color: #E8F0FE;\n",
              "      --fill-color: #1967D2;\n",
              "      --hover-bg-color: #E2EBFA;\n",
              "      --hover-fill-color: #174EA6;\n",
              "      --disabled-fill-color: #AAA;\n",
              "      --disabled-bg-color: #DDD;\n",
              "  }\n",
              "\n",
              "  [theme=dark] .colab-df-quickchart {\n",
              "      --bg-color: #3B4455;\n",
              "      --fill-color: #D2E3FC;\n",
              "      --hover-bg-color: #434B5C;\n",
              "      --hover-fill-color: #FFFFFF;\n",
              "      --disabled-bg-color: #3B4455;\n",
              "      --disabled-fill-color: #666;\n",
              "  }\n",
              "\n",
              "  .colab-df-quickchart {\n",
              "    background-color: var(--bg-color);\n",
              "    border: none;\n",
              "    border-radius: 50%;\n",
              "    cursor: pointer;\n",
              "    display: none;\n",
              "    fill: var(--fill-color);\n",
              "    height: 32px;\n",
              "    padding: 0;\n",
              "    width: 32px;\n",
              "  }\n",
              "\n",
              "  .colab-df-quickchart:hover {\n",
              "    background-color: var(--hover-bg-color);\n",
              "    box-shadow: 0 1px 2px rgba(60, 64, 67, 0.3), 0 1px 3px 1px rgba(60, 64, 67, 0.15);\n",
              "    fill: var(--button-hover-fill-color);\n",
              "  }\n",
              "\n",
              "  .colab-df-quickchart-complete:disabled,\n",
              "  .colab-df-quickchart-complete:disabled:hover {\n",
              "    background-color: var(--disabled-bg-color);\n",
              "    fill: var(--disabled-fill-color);\n",
              "    box-shadow: none;\n",
              "  }\n",
              "\n",
              "  .colab-df-spinner {\n",
              "    border: 2px solid var(--fill-color);\n",
              "    border-color: transparent;\n",
              "    border-bottom-color: var(--fill-color);\n",
              "    animation:\n",
              "      spin 1s steps(1) infinite;\n",
              "  }\n",
              "\n",
              "  @keyframes spin {\n",
              "    0% {\n",
              "      border-color: transparent;\n",
              "      border-bottom-color: var(--fill-color);\n",
              "      border-left-color: var(--fill-color);\n",
              "    }\n",
              "    20% {\n",
              "      border-color: transparent;\n",
              "      border-left-color: var(--fill-color);\n",
              "      border-top-color: var(--fill-color);\n",
              "    }\n",
              "    30% {\n",
              "      border-color: transparent;\n",
              "      border-left-color: var(--fill-color);\n",
              "      border-top-color: var(--fill-color);\n",
              "      border-right-color: var(--fill-color);\n",
              "    }\n",
              "    40% {\n",
              "      border-color: transparent;\n",
              "      border-right-color: var(--fill-color);\n",
              "      border-top-color: var(--fill-color);\n",
              "    }\n",
              "    60% {\n",
              "      border-color: transparent;\n",
              "      border-right-color: var(--fill-color);\n",
              "    }\n",
              "    80% {\n",
              "      border-color: transparent;\n",
              "      border-right-color: var(--fill-color);\n",
              "      border-bottom-color: var(--fill-color);\n",
              "    }\n",
              "    90% {\n",
              "      border-color: transparent;\n",
              "      border-bottom-color: var(--fill-color);\n",
              "    }\n",
              "  }\n",
              "</style>\n",
              "\n",
              "  <script>\n",
              "    async function quickchart(key) {\n",
              "      const quickchartButtonEl =\n",
              "        document.querySelector('#' + key + ' button');\n",
              "      quickchartButtonEl.disabled = true;  // To prevent multiple clicks.\n",
              "      quickchartButtonEl.classList.add('colab-df-spinner');\n",
              "      try {\n",
              "        const charts = await google.colab.kernel.invokeFunction(\n",
              "            'suggestCharts', [key], {});\n",
              "      } catch (error) {\n",
              "        console.error('Error during call to suggestCharts:', error);\n",
              "      }\n",
              "      quickchartButtonEl.classList.remove('colab-df-spinner');\n",
              "      quickchartButtonEl.classList.add('colab-df-quickchart-complete');\n",
              "    }\n",
              "    (() => {\n",
              "      let quickchartButtonEl =\n",
              "        document.querySelector('#df-c2b648a8-7504-4ae9-9a9d-8d48c2d788ab button');\n",
              "      quickchartButtonEl.style.display =\n",
              "        google.colab.kernel.accessAllowed ? 'block' : 'none';\n",
              "    })();\n",
              "  </script>\n",
              "</div>\n",
              "    </div>\n",
              "  </div>\n"
            ],
            "text/plain": [
              "                                            filepath  \\\n",
              "0                    data/steuern-finanzen/data.html   \n",
              "1     data/steuern-finanzen/finanzaufsicht/data.html   \n",
              "2            data/steuern-finanzen/steuern/data.html   \n",
              "3  data/steuern-finanzen/steuern/steuern-bezahlen...   \n",
              "4  data/steuern-finanzen/steuern/steuerbuch/data....   \n",
              "\n",
              "                                            headings  \\\n",
              "0  ['Accesskeys', 'Steuern & Finanzen', 'Inhaltst...   \n",
              "1  ['Accesskeys', 'Inhaltstyp', 'Finanzaufsicht',...   \n",
              "2  ['Accesskeys', 'Steuern', 'Inhaltstyp', 'Aktue...   \n",
              "3  ['Accesskeys', 'Inhaltstyp', 'Steuern bezahlen...   \n",
              "4  ['Accesskeys', 'Inhaltstyp', 'Steuerbuch und r...   \n",
              "\n",
              "                                          paragraphs  \\\n",
              "0  ['Accesskeys', 'Direkt zur Startseite', 'Direk...   \n",
              "1  ['Accesskeys', 'Direkt zur Startseite', 'Direk...   \n",
              "2  ['Accesskeys', 'Direkt zur Startseite', 'Direk...   \n",
              "3  ['Accesskeys', 'Direkt zur Startseite', 'Direk...   \n",
              "4  ['Accesskeys', 'Direkt zur Startseite', 'Direk...   \n",
              "\n",
              "                                         blockquotes  \\\n",
              "0  ['Direkt zur Startseite', 'Direkt zur Navigati...   \n",
              "1  ['Direkt zur Startseite', 'Direkt zur Navigati...   \n",
              "2  ['Direkt zur Startseite', 'Direkt zur Navigati...   \n",
              "3  ['Direkt zur Startseite', 'Direkt zur Navigati...   \n",
              "4  ['Direkt zur Startseite', 'Direkt zur Navigati...   \n",
              "\n",
              "                                         strong_bold  \n",
              "0                                                 []  \n",
              "1                                                 []  \n",
              "2                                                 []  \n",
              "3  ['Kantons- und Gemeindesteuern', 'Direkte Bund...  \n",
              "4  ['Das St. Galler Steuerbuch wurde mit dem 13. ...  "
            ]
          },
          "execution_count": 145,
          "metadata": {},
          "output_type": "execute_result"
        }
      ],
      "source": [
        "df.head()"
      ]
    },
    {
      "cell_type": "code",
      "execution_count": null,
      "metadata": {
        "id": "FqGZ-qIKk1Lt"
      },
      "outputs": [],
      "source": [
        "df_json = df.to_json(orient='records')"
      ]
    },
    {
      "cell_type": "code",
      "execution_count": null,
      "metadata": {
        "colab": {
          "base_uri": "https://localhost:8080/"
        },
        "id": "j0XfSzoMlKKE",
        "outputId": "0d2b89e6-cb68-4bc9-8c96-00d5562a3964"
      },
      "outputs": [
        {
          "data": {
            "text/plain": [
              "3882"
            ]
          },
          "execution_count": 147,
          "metadata": {},
          "output_type": "execute_result"
        }
      ],
      "source": [
        "arr = json.loads(df_json)\n",
        "len(arr)"
      ]
    },
    {
      "cell_type": "code",
      "execution_count": null,
      "metadata": {
        "id": "m87lV11Ml4Hk"
      },
      "outputs": [],
      "source": [
        "from llama_index.core import Document\n",
        "from llama_index.core.schema import MetadataMode\n",
        "\n",
        "llama_documents = []\n",
        "\n",
        "for document in arr:\n",
        "    doc = {\n",
        "        \"filepath\": None,\n",
        "        # \"headings\": None,\n",
        "        # \"blockquotes\": None,\n",
        "        # \"strong_bold\": None\n",
        "    }\n",
        "\n",
        "    # Value for metadata must be one of (str, int, float, None)\n",
        "    doc[\"filepath\"] = json.dumps(document[\"filepath\"])\n",
        "    # doc[\"headings\"] = json.dumps(document[\"headings\"])\n",
        "    # doc[\"blockquotes\"] = json.dumps(document[\"blockquotes\"])\n",
        "    # doc[\"strong_bold\"] = json.dumps(document[\"strong_bold\"])\n",
        "\n",
        "\n",
        "    # Create a Document object with the text and excluded metadata for llm and embedding models\n",
        "    llama_document = Document(\n",
        "        text=' '.join(document[\"paragraphs\"]),\n",
        "        metadata=doc,\n",
        "        metadata_template=\"{key}=>{value}\",\n",
        "        text_template=\"Metadata: {metadata_str}\\n-----\\nContent: {content}\",\n",
        "        )\n",
        "\n",
        "    llama_documents.append(llama_document)"
      ]
    },
    {
      "cell_type": "code",
      "source": [
        "type(emb[0])"
      ],
      "metadata": {
        "colab": {
          "base_uri": "https://localhost:8080/"
        },
        "id": "NkUevsdmFW_m",
        "outputId": "e1836bc6-e99d-4f75-a55f-79d830f32848"
      },
      "execution_count": null,
      "outputs": [
        {
          "output_type": "execute_result",
          "data": {
            "text/plain": [
              "float"
            ]
          },
          "metadata": {},
          "execution_count": 184
        }
      ]
    },
    {
      "cell_type": "code",
      "source": [
        "with open('embeddings.json', 'w') as f:\n",
        "    json.dump({'embeddings': emb}, f)"
      ],
      "metadata": {
        "id": "_lxh-N-dC5Gx"
      },
      "execution_count": null,
      "outputs": []
    },
    {
      "cell_type": "code",
      "execution_count": null,
      "metadata": {
        "id": "At0M1wBtokeH"
      },
      "outputs": [],
      "source": [
        "from llama_index.core.node_parser import SentenceSplitter\n",
        "\n",
        "parser = SentenceSplitter(chunk_size=1024, chunk_overlap=20)\n",
        "nodes = parser.get_nodes_from_documents(llama_documents, show_progress=True)\n",
        "\n",
        "for node in nodes:\n",
        "    node_embedding = embed_model.get_text_embedding(\n",
        "        node.get_content(metadata_mode=\"all\")\n",
        "    )\n",
        "    node.embedding = node_embedding"
      ]
    },
    {
      "cell_type": "code",
      "execution_count": null,
      "metadata": {
        "colab": {
          "base_uri": "https://localhost:8080/"
        },
        "id": "G9HqPiD80XTC",
        "outputId": "e17d805a-ca09-4cf1-ffb5-17ed849cc8d5"
      },
      "outputs": [
        {
          "output_type": "stream",
          "name": "stdout",
          "text": [
            "Connection to MongoDB successful\n"
          ]
        }
      ],
      "source": [
        "import pymongo\n",
        "from google.colab import userdata\n",
        "\n",
        "def get_mongo_client(mongo_uri):\n",
        "  \"\"\"Establish connection to the MongoDB.\"\"\"\n",
        "  try:\n",
        "    client = pymongo.MongoClient(mongo_uri)\n",
        "    print(\"Connection to MongoDB successful\")\n",
        "    return client\n",
        "  except pymongo.errors.ConnectionFailure as e:\n",
        "    print(f\"Connection failed: {e}\")\n",
        "    return None\n",
        "\n",
        "mongo_uri = userdata.get('MONGO_URI')\n",
        "if not mongo_uri:\n",
        "  print(\"MONGO_URI not set in environment variables\")\n",
        "\n",
        "mongo_client = get_mongo_client(mongo_uri)\n",
        "\n",
        "DB_NAME=\"sg\"\n",
        "COLLECTION_NAME=\"sg_records\"\n",
        "\n",
        "db = mongo_client[DB_NAME]\n",
        "collection = db[COLLECTION_NAME]"
      ]
    },
    {
      "cell_type": "code",
      "execution_count": null,
      "metadata": {
        "id": "-0APIyP50jMh"
      },
      "outputs": [],
      "source": [
        "collection.delete_many({})"
      ]
    },
    {
      "cell_type": "code",
      "execution_count": null,
      "metadata": {
        "id": "iTorRPp03_3f"
      },
      "outputs": [],
      "source": []
    }
  ],
  "metadata": {
    "colab": {
      "provenance": []
    },
    "kernelspec": {
      "display_name": "Python 3",
      "name": "python3"
    },
    "language_info": {
      "name": "python"
    }
  },
  "nbformat": 4,
  "nbformat_minor": 0
}